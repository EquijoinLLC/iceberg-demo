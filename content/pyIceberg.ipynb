{
  "metadata": {
    "kernelspec": {
      "name": "python",
      "display_name": "Python (Pyodide)",
      "language": "python"
    },
    "language_info": {
      "codemirror_mode": {
        "name": "python",
        "version": 3
      },
      "file_extension": ".py",
      "mimetype": "text/x-python",
      "name": "python",
      "nbconvert_exporter": "python",
      "pygments_lexer": "ipython3",
      "version": "3.8"
    }
  },
  "nbformat_minor": 5,
  "nbformat": 4,
  "cells": [
    {
      "id": "dbfeaaeb-08cc-4356-a035-065be8622cf6",
      "cell_type": "code",
      "source": "from pyiceberg.catalog.sql import SqlCatalog\nimport pyarrow.parquet as pq\nimport pyarrow.compute as pc\n\nwarehouse_path = \"./data\"\ncatalog = SqlCatalog(\n    \"default\",\n    **{\n         \"uri\": \"sqlite:///:memory:\",\n        \"warehouse\": f\"file://{warehouse_path}\",\n    },\n)\n\ncatalog.create_namespace(\"default\")\n",
      "metadata": {
        "trusted": true
      },
      "outputs": [],
      "execution_count": null
    },
    {
      "id": "bac9e205-0789-4efb-92b3-3853ee6f8212",
      "cell_type": "code",
      "source": "df = pq.read_table(\"data/taxi.parquet\")\n\n\ntable = catalog.create_table(\n    \"default.taxi_dataset\",\n    schema=df.schema,\n)\n\ntable.append(df)\nlen(table.scan().to_arrow())\n\nprint(table.scan().to_arrow())",
      "metadata": {
        "trusted": true
      },
      "outputs": [],
      "execution_count": null
    },
    {
      "id": "707f6e38-db45-48de-b17d-efccaa7dbb14",
      "cell_type": "code",
      "source": "",
      "metadata": {
        "trusted": true
      },
      "outputs": [],
      "execution_count": null
    }
  ]
}