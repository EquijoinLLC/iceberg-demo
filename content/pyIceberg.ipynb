{
  "metadata": {
    "kernelspec": {
      "name": "python",
      "display_name": "Python (Pyodide)",
      "language": "python"
    },
    "language_info": {
      "codemirror_mode": {
        "name": "python",
        "version": 3
      },
      "file_extension": ".py",
      "mimetype": "text/x-python",
      "name": "python",
      "nbconvert_exporter": "python",
      "pygments_lexer": "ipython3",
      "version": "3.8"
    }
  },
  "nbformat_minor": 5,
  "nbformat": 4,
  "cells": [
    {
      "id": "dbfeaaeb-08cc-4356-a035-065be8622cf6",
      "cell_type": "code",
      "source": "from pyiceberg.catalog.sql import SqlCatalog\nimport pyarrow.parquet as pq\nimport pyarrow.compute as pc\n#import sqlite3\n\n#con = sqlite3.connect(\"pyiceberg_catalog.db\")\n\nwarehouse_path = \"./data\"\ncatalog = SqlCatalog(\n    \"default\",\n    **{\n        \"uri\": f\"sqlite:///{warehouse_path}/pyiceberg_catalog.db\",\n        \"warehouse\": f\"file://{warehouse_path}\",\n    },\n)\n\ncatalog.create_namespace(\"default\")\n",
      "metadata": {
        "trusted": true
      },
      "outputs": [],
      "execution_count": null
    },
    {
      "id": "e00e2c55-0f92-4851-92db-00010b43cf64",
      "cell_type": "code",
      "source": "import sqlite3\ncon = sqlite3.connect(\"./data/pyiceberg_catalog.db\")\ncur = con.cursor()\ncur.execute(\"\"\"CREATE TABLE iceberg_namespace_properties (\n\tcatalog_name VARCHAR(255) NOT NULL, \n\tnamespace VARCHAR(255) NOT NULL, \n\tproperty_key VARCHAR(255) NOT NULL, \n\tproperty_value VARCHAR(1000) NOT NULL, \n\tPRIMARY KEY (catalog_name, namespace, property_key)\n)\"\"\")\ncon.close()",
      "metadata": {
        "trusted": true
      },
      "outputs": [],
      "execution_count": null
    },
    {
      "id": "bac9e205-0789-4efb-92b3-3853ee6f8212",
      "cell_type": "code",
      "source": "df = pq.read_table(\"./data/taxi-tripdata.parquet\")\n\n\ntable = catalog.create_table(\n    \"default.taxi_dataset\",\n    schema=df.schema,\n)\n\ntable.append(df)\nlen(table.scan().to_arrow())\n\nprint(table.scan().to_arrow())",
      "metadata": {
        "trusted": true
      },
      "outputs": [],
      "execution_count": null
    }
  ]
}
